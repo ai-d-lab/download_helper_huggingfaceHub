{
 "cells": [
  {
   "cell_type": "markdown",
   "id": "3f2e017e-9d57-41dd-8bac-e6b7ac1de40a",
   "metadata": {},
   "source": [
    "Kleines Notebook um Modelle direkt herunterzuladen von HugginFace.com"
   ]
  },
  {
   "cell_type": "markdown",
   "id": "d43f2158-4c00-40c3-a1a9-7703aba89bef",
   "metadata": {},
   "source": [
    "Dafür wird die huggingface_hub Bibliothek benötigt und kann mit pip installiert werden"
   ]
  },
  {
   "cell_type": "code",
   "execution_count": 13,
   "id": "a5286405-1212-4937-a3e4-02fa2b046534",
   "metadata": {},
   "outputs": [
    {
     "name": "stdout",
     "output_type": "stream",
     "text": [
      "Requirement already satisfied: huggingface_hub in /opt/conda/lib/python3.10/site-packages (0.11.1)\n",
      "Requirement already satisfied: typing-extensions>=3.7.4.3 in /opt/conda/lib/python3.10/site-packages (from huggingface_hub) (4.4.0)\n",
      "Requirement already satisfied: requests in /opt/conda/lib/python3.10/site-packages (from huggingface_hub) (2.28.1)\n",
      "Requirement already satisfied: filelock in /opt/conda/lib/python3.10/site-packages (from huggingface_hub) (3.8.0)\n",
      "Requirement already satisfied: pyyaml>=5.1 in /opt/conda/lib/python3.10/site-packages (from huggingface_hub) (6.0)\n",
      "Requirement already satisfied: packaging>=20.9 in /opt/conda/lib/python3.10/site-packages (from huggingface_hub) (21.3)\n",
      "Requirement already satisfied: tqdm in /opt/conda/lib/python3.10/site-packages (from huggingface_hub) (4.64.1)\n",
      "Requirement already satisfied: pyparsing!=3.0.5,>=2.0.2 in /opt/conda/lib/python3.10/site-packages (from packaging>=20.9->huggingface_hub) (3.0.9)\n",
      "Requirement already satisfied: urllib3<1.27,>=1.21.1 in /opt/conda/lib/python3.10/site-packages (from requests->huggingface_hub) (1.26.11)\n",
      "Requirement already satisfied: idna<4,>=2.5 in /opt/conda/lib/python3.10/site-packages (from requests->huggingface_hub) (3.4)\n",
      "Requirement already satisfied: charset-normalizer<3,>=2 in /opt/conda/lib/python3.10/site-packages (from requests->huggingface_hub) (2.1.1)\n",
      "Requirement already satisfied: certifi>=2017.4.17 in /opt/conda/lib/python3.10/site-packages (from requests->huggingface_hub) (2022.9.24)\n"
     ]
    }
   ],
   "source": [
    "!python -m pip install huggingface_hub"
   ]
  },
  {
   "cell_type": "code",
   "execution_count": 14,
   "id": "00aa9456-e9a3-4107-aa16-a8c1661c9dc7",
   "metadata": {},
   "outputs": [
    {
     "data": {
      "application/vnd.jupyter.widget-view+json": {
       "model_id": "191e62aaba114b0597b095831c41b3a8",
       "version_major": 2,
       "version_minor": 0
      },
      "text/plain": [
       "VBox(children=(HTML(value='<center> <img\\nsrc=https://huggingface.co/front/assets/huggingface_logo-noborder.sv…"
      ]
     },
     "metadata": {},
     "output_type": "display_data"
    }
   ],
   "source": [
    "from huggingface_hub import notebook_login\n",
    "\n",
    "notebook_login()"
   ]
  },
  {
   "cell_type": "code",
   "execution_count": 16,
   "id": "cef3905c-5e19-4db1-9488-3b4abab70980",
   "metadata": {
    "tags": []
   },
   "outputs": [
    {
     "name": "stdout",
     "output_type": "stream",
     "text": [
      "Modell wird im Ordner models gespeichert.\n"
     ]
    },
    {
     "data": {
      "text/plain": [
       "'./models/models--stabilityai--stable-diffusion-2-1/snapshots/4f7aefa8e5aa6a9d58c582b00c568132e72ff302/v2-1_768-nonema-pruned.ckpt'"
      ]
     },
     "execution_count": 16,
     "metadata": {},
     "output_type": "execute_result"
    }
   ],
   "source": [
    "import os\n",
    "from huggingface_hub import hf_hub_download\n",
    "\n",
    "REPO_ID = \"stabilityai/stable-diffusion-2-1\"\n",
    "FILENAME = \"v2-1_768-nonema-pruned.ckpt\"\n",
    "DIR = \"models\"\n",
    "\n",
    "if os.path.exists(DIR) == False:\n",
    "    os.mkdir(DIR)\n",
    "    print(\"Ordner \" + DIR + \" wurde erstellt.\")\n",
    "else:\n",
    "    print(\"Modell wird im Ordner \" + DIR + \" gespeichert.\")\n",
    "    \n",
    "return_val = hf_hub_download(repo_id=REPO_ID, filename=FILENAME)\n"
    "os.system('cp '+ return_val +' ./stable-diffusion-webui/models/Stable-diffusion/'+FILENAME)"
   ]
  }
 ],
 "metadata": {
  "kernelspec": {
   "display_name": "Python 3 (ipykernel)",
   "language": "python",
   "name": "python3"
  },
  "language_info": {
   "codemirror_mode": {
    "name": "ipython",
    "version": 3
   },
   "file_extension": ".py",
   "mimetype": "text/x-python",
   "name": "python",
   "nbconvert_exporter": "python",
   "pygments_lexer": "ipython3",
   "version": "3.10.6"
  }
 },
 "nbformat": 4,
 "nbformat_minor": 5
}
